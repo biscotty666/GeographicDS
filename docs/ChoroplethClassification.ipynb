{
 "cells": [
  {
   "cell_type": "markdown",
   "id": "a433d765-2d90-4372-bc8d-c8dc258d6473",
   "metadata": {},
   "source": [
    "# Choropleth quantitative classification"
   ]
  },
  {
   "cell_type": "code",
   "execution_count": 1,
   "id": "fd3ab080-43ac-46bb-9c34-d185b04d34d6",
   "metadata": {},
   "outputs": [],
   "source": [
    "import seaborn as sns\n",
    "import pandas as pd\n",
    "import geopandas as gpd \n",
    "import pysal\n",
    "import numpy as np\n",
    "import matplotlib.pyplot as plt"
   ]
  },
  {
   "cell_type": "code",
   "execution_count": 2,
   "id": "1d510199-0533-4d82-850f-83e9c2ab05ac",
   "metadata": {},
   "outputs": [
    {
     "name": "stdout",
     "output_type": "stream",
     "text": [
      "                    NAME  PCGDP1940\n",
      "0  Baja California Norte    22361.0\n",
      "1    Baja California Sur     9573.0\n",
      "2                Nayarit     4836.0\n",
      "3                Jalisco     5309.0\n",
      "4         Aguascalientes    10384.0\n"
     ]
    }
   ],
   "source": [
    "mx = gpd.read_file(\"../data/mexico/mexicojoin.shp\")\n",
    "print(mx[['NAME', 'PCGDP1940']].head())"
   ]
  },
  {
   "cell_type": "code",
   "execution_count": 3,
   "id": "3c705b65-3434-41e2-b45e-e1e881695465",
   "metadata": {},
   "outputs": [
    {
     "data": {
      "image/png": "[encoded data removed]",
      "text/plain": [
       "<Figure size 640x480 with 1 Axes>"
      ]
     },
     "metadata": {},
     "output_type": "display_data"
    }
   ],
   "source": [
    "ax = sns.histplot(mx.PCGDP1940, bins=5)\n",
    "sns.rugplot(mx.PCGDP1940, height=0.05, color='r', ax=ax);"
   ]
  },
  {
   "cell_type": "code",
   "execution_count": 4,
   "id": "bc1dfb9c-0fe3-4bf4-aa08-c10bae304ad0",
   "metadata": {},
   "outputs": [
    {
     "data": {
      "text/plain": [
       "count       32.000000\n",
       "mean      7230.531250\n",
       "std       5204.952883\n",
       "min       1892.000000\n",
       "25%       3701.750000\n",
       "50%       5256.000000\n",
       "75%       8701.750000\n",
       "max      22361.000000\n",
       "Name: PCGDP1940, dtype: float64"
      ]
     },
     "execution_count": 4,
     "metadata": {},
     "output_type": "execute_result"
    }
   ],
   "source": [
    "mx.PCGDP1940.describe()"
   ]
  },
  {
   "cell_type": "code",
   "execution_count": 5,
   "id": "e2b31e23-b0ae-4352-87c5-f0ad9db5ea95",
   "metadata": {},
   "outputs": [
    {
     "data": {
      "text/plain": [
       "np.float64(22361.0)"
      ]
     },
     "execution_count": 5,
     "metadata": {},
     "output_type": "execute_result"
    }
   ],
   "source": [
    "mx.PCGDP1940.max()"
   ]
  },
  {
   "cell_type": "code",
   "execution_count": 6,
   "id": "f5c7cc46-47d3-4cba-b22e-f6421716cee2",
   "metadata": {},
   "outputs": [
    {
     "name": "stdout",
     "output_type": "stream",
     "text": [
      "                     NAME  PCGDP1940\n",
      "0   Baja California Norte    22361.0\n",
      "16           Quintana Roo    21965.0\n",
      "10       Distrito Federal    17816.0\n",
      "26                Durango    12132.0\n",
      "6    Queretaro de Arteaga    11016.0\n"
     ]
    }
   ],
   "source": [
    "print(mx.sort_values('PCGDP1940', ascending=False)[[\"NAME\", \"PCGDP1940\"]].iloc[:5])"
   ]
  },
  {
   "cell_type": "markdown",
   "id": "f414e98d-90dd-4229-9f85-e9be4a5749e9",
   "metadata": {},
   "source": [
    ">Distribution is positively skewed, the mean exceeds the median, resulting in the long right tail.\n",
    ">\n",
    ">Positive skewness is common in regional income studies\n",
    ">\n",
    ">Skewness affects choice of classification scheme"
   ]
  },
  {
   "cell_type": "code",
   "execution_count": 7,
   "id": "edb971ba-ee0c-4ad5-ab48-0932e1bcb56f",
   "metadata": {},
   "outputs": [],
   "source": [
    "counts, bins, patches = ax.hist(mx.PCGDP1940, bins=5)"
   ]
  },
  {
   "cell_type": "code",
   "execution_count": 8,
   "id": "e8f69fe5-db40-43c3-828e-02bb6363af3e",
   "metadata": {},
   "outputs": [
    {
     "data": {
      "text/plain": [
       "(array([17.,  9.,  3.,  1.,  2.]),\n",
       " array([ 1892. ,  5985.8, 10079.6, 14173.4, 18267.2, 22361. ]))"
      ]
     },
     "execution_count": 8,
     "metadata": {},
     "output_type": "execute_result"
    }
   ],
   "source": [
    "counts, bins"
   ]
  },
  {
   "cell_type": "markdown",
   "id": "aefca653-3daf-4455-80fb-b35640b37721",
   "metadata": {},
   "source": [
    "This yields five bins, with the first having a lower bound of 1892 and an upper bound of 5985.8 which contains 17 observations. The determination of the interval width ($w$) and the number of bins in `seaborn` is based on the Freedman-Diaconis rule [FD81]:\n",
    "$$\n",
    "w = 2 * IQR * n^{-1/3}\n",
    "$$\n",
    "\n",
    "where $IQR$ is the inter quartile range of the attribute values. Given $w$, the number of bins ($k$) is:\n",
    "\n",
    "$$\n",
    "k = \\dfrac{(max-min)}{w}\n",
    "$$\n"
   ]
  },
  {
   "cell_type": "markdown",
   "id": "c2b09e1c-84b6-4985-90be-48e5cf3fd6b2",
   "metadata": {},
   "source": [
    ">`mapclassify` has various classification algorithms which focus on different priorities"
   ]
  },
  {
   "cell_type": "code",
   "execution_count": 9,
   "id": "d4d053d2-b393-47f0-8d2e-2a3be044a5d6",
   "metadata": {},
   "outputs": [],
   "source": [
    "import mapclassify"
   ]
  },
  {
   "cell_type": "markdown",
   "id": "158522b7-79cd-4981-8946-12c480af63e2",
   "metadata": {},
   "source": [
    "## Equal intervals\n",
    "\n",
    "- each bin has the same width in the values space\n",
    "- simple and easy to interpret\n",
    "- can result in sparse classes"
   ]
  },
  {
   "cell_type": "code",
   "execution_count": 10,
   "id": "22b0c2f7-1404-4bdf-b6ca-e56e3ba2b47e",
   "metadata": {},
   "outputs": [
    {
     "data": {
      "text/plain": [
       "EqualInterval\n",
       "\n",
       "      Interval         Count\n",
       "----------------------------\n",
       "[ 1892.00,  5985.80] |    17\n",
       "( 5985.80, 10079.60] |     9\n",
       "(10079.60, 14173.40] |     3\n",
       "(14173.40, 18267.20] |     1\n",
       "(18267.20, 22361.00] |     2"
      ]
     },
     "execution_count": 10,
     "metadata": {},
     "output_type": "execute_result"
    }
   ],
   "source": [
    "ei5 = mapclassify.EqualInterval(mx.PCGDP1940, k=5)\n",
    "ei5"
   ]
  },
  {
   "cell_type": "markdown",
   "id": "f321fc08-e69f-49c7-bf39-132d280cde15",
   "metadata": {},
   "source": [
    "## Quantiles\n",
    "\n",
    "- avoids sparse classes\n",
    "- can identify class boundaries\n",
    "- varying widths can make interpretation difficult\n",
    "- a large number of duplicate values can make the limits become ambiguous"
   ]
  },
  {
   "cell_type": "code",
   "execution_count": 11,
   "id": "d1a943cf-92b4-4f22-9003-6ae2e89ed939",
   "metadata": {},
   "outputs": [
    {
     "data": {
      "text/plain": [
       "Quantiles\n",
       "\n",
       "      Interval         Count\n",
       "----------------------------\n",
       "[ 1892.00,  3576.20] |     7\n",
       "( 3576.20,  4582.80] |     6\n",
       "( 4582.80,  6925.20] |     6\n",
       "( 6925.20,  9473.00] |     6\n",
       "( 9473.00, 22361.00] |     7"
      ]
     },
     "execution_count": 11,
     "metadata": {},
     "output_type": "execute_result"
    }
   ],
   "source": [
    "q5 = mapclassify.Quantiles(mx.PCGDP1940, k=5)\n",
    "q5"
   ]
  },
  {
   "cell_type": "markdown",
   "id": "688b05fd-d65f-4eed-9910-1d128f8b6041",
   "metadata": {},
   "source": [
    ">Example of duplicate value problem"
   ]
  },
  {
   "cell_type": "code",
   "execution_count": 12,
   "id": "d7c2970a-46bd-47ff-a165-fe7f26d6f446",
   "metadata": {},
   "outputs": [
    {
     "data": {
      "text/plain": [
       "array([0, 0, 0, 0, 0, 0, 0, 0, 0, 0, 9, 7, 6, 0, 2, 9, 1, 2, 6, 7])"
      ]
     },
     "execution_count": 12,
     "metadata": {},
     "output_type": "execute_result"
    }
   ],
   "source": [
    "np.random.seed(12345)\n",
    "x = np.random.randint(0, 10, 20)\n",
    "x[0:10] = x.min() \n",
    "x"
   ]
  },
  {
   "cell_type": "code",
   "execution_count": 13,
   "id": "85a8008b-2261-40f2-bbc2-9716fd1d8669",
   "metadata": {},
   "outputs": [
    {
     "name": "stderr",
     "output_type": "stream",
     "text": [
      "/nix/store/vr0vzbdxcp8p7930zzjipn2i2gfn14ii-python3-3.12.8-env/lib/python3.12/site-packages/mapclassify/classifiers.py:1653: UserWarning: Not enough unique values in array to form 5 classes. Setting k to 4.\n",
      "  self.bins = quantile(y, k=k)\n"
     ]
    },
    {
     "data": {
      "text/plain": [
       "Quantiles\n",
       "\n",
       "  Interval     Count\n",
       "--------------------\n",
       "[0.00, 0.00] |    11\n",
       "(0.00, 1.40] |     1\n",
       "(1.40, 6.20] |     4\n",
       "(6.20, 9.00] |     4"
      ]
     },
     "execution_count": 13,
     "metadata": {},
     "output_type": "execute_result"
    }
   ],
   "source": [
    "ties = mapclassify.Quantiles(x, k=5)\n",
    "ties"
   ]
  },
  {
   "cell_type": "markdown",
   "id": "ec7a0eb6-2141-4454-a8fa-325565c4864f",
   "metadata": {},
   "source": [
    "## Mean-standard deviation\n",
    "\n",
    "Appropriate for normally distributed data.\n",
    "\n",
    "Parameters include: \n",
    "\n",
    "multiples : numpy.array (default [-2, -1, 1, 2])\n",
    "    The multiples of the standard deviation to add/subtract from\n",
    "    the sample mean to define the bins.\n",
    "\n",
    "k = number of classes"
   ]
  },
  {
   "cell_type": "code",
   "execution_count": 14,
   "id": "7f0e6ff7-44e8-47c0-a71b-6ac9eb154676",
   "metadata": {},
   "outputs": [
    {
     "data": {
      "text/plain": [
       "StdMean\n",
       "\n",
       "      Interval         Count\n",
       "----------------------------\n",
       "(    -inf, -3179.37] |     0\n",
       "(-3179.37,  2025.58] |     1\n",
       "( 2025.58, 12435.48] |    28\n",
       "(12435.48, 17640.44] |     0\n",
       "(17640.44, 22361.00] |     3"
      ]
     },
     "execution_count": 14,
     "metadata": {},
     "output_type": "execute_result"
    }
   ],
   "source": [
    "msd = mapclassify.StdMean(mx.PCGDP1940)\n",
    "msd"
   ]
  },
  {
   "cell_type": "markdown",
   "id": "616f1f02-d545-4913-8656-e8f5ae539b37",
   "metadata": {},
   "source": [
    "## Maximum breaks\n",
    "\n",
    "- Determines breaks based on the differences of sorted values\n",
    "- places k-1 breakpoints where pair value differences is greatest\n",
    "- good if the distribution is not unimodal\n",
    "- results can be misleading"
   ]
  },
  {
   "cell_type": "code",
   "execution_count": 15,
   "id": "6be17dc0-c0d8-45f9-8db7-0371b25cbf36",
   "metadata": {},
   "outputs": [
    {
     "data": {
      "text/plain": [
       "MaximumBreaks\n",
       "\n",
       "      Interval         Count\n",
       "----------------------------\n",
       "[ 1892.00,  5854.00] |    17\n",
       "( 5854.00, 11574.00] |    11\n",
       "(11574.00, 14974.00] |     1\n",
       "(14974.00, 19890.50] |     1\n",
       "(19890.50, 22361.00] |     2"
      ]
     },
     "execution_count": 15,
     "metadata": {},
     "output_type": "execute_result"
    }
   ],
   "source": [
    "mb5 = mapclassify.MaximumBreaks(mx.PCGDP1940, k=5)\n",
    "mb5"
   ]
  },
  {
   "cell_type": "markdown",
   "id": "f6779740-eae2-4c4f-97d1-32c4f3188a25",
   "metadata": {},
   "source": [
    "## Boxplot \n",
    "\n",
    "- blend of quantile and std classifiers.\n",
    "- values in the extrmeme classes considered outliers\n",
    "- takes a `hinge` parameter, a multiplier of $IQR$ for the whisker bounds, default 1.5"
   ]
  },
  {
   "cell_type": "code",
   "execution_count": 16,
   "id": "8a61869b-fd8e-410d-a6de-a4dc89c63c1b",
   "metadata": {},
   "outputs": [
    {
     "data": {
      "text/plain": [
       "BoxPlot\n",
       "\n",
       "      Interval         Count\n",
       "----------------------------\n",
       "(    -inf, -3798.25] |     0\n",
       "(-3798.25,  3701.75] |     8\n",
       "( 3701.75,  5256.00] |     8\n",
       "( 5256.00,  8701.75] |     8\n",
       "( 8701.75, 16201.75] |     5\n",
       "(16201.75, 22361.00] |     3"
      ]
     },
     "execution_count": 16,
     "metadata": {},
     "output_type": "execute_result"
    }
   ],
   "source": [
    "bp = mapclassify.BoxPlot(mx.PCGDP1940)\n",
    "bp"
   ]
  },
  {
   "cell_type": "code",
   "execution_count": 17,
   "id": "7cc02588-ed64-4072-b193-a4dbc2f4af8c",
   "metadata": {},
   "outputs": [
    {
     "data": {
      "text/plain": [
       "BoxPlot\n",
       "\n",
       "      Interval         Count\n",
       "----------------------------\n",
       "(    -inf, -1298.25] |     0\n",
       "(-1298.25,  3701.75] |     8\n",
       "( 3701.75,  5256.00] |     8\n",
       "( 5256.00,  8701.75] |     8\n",
       "( 8701.75, 13701.75] |     5\n",
       "(13701.75, 22361.00] |     3"
      ]
     },
     "execution_count": 17,
     "metadata": {},
     "output_type": "execute_result"
    }
   ],
   "source": [
    "bp1 = mapclassify.BoxPlot(mx.PCGDP1940, hinge=1)\n",
    "bp1"
   ]
  },
  {
   "cell_type": "markdown",
   "id": "6052c8c1-85b8-4a6f-a318-c4cfb1966030",
   "metadata": {},
   "source": [
    "## Head-tail breaks \n",
    "\n",
    "- recursively splits around iterative means, continues until the distributions _in each class_ do not have heavy tails\n",
    "- good for power and log normal distributions"
   ]
  },
  {
   "cell_type": "code",
   "execution_count": 18,
   "id": "47600f7f-f3a3-4793-abdb-93152bd6b6ce",
   "metadata": {},
   "outputs": [
    {
     "data": {
      "text/plain": [
       "HeadTailBreaks\n",
       "\n",
       "      Interval         Count\n",
       "----------------------------\n",
       "[ 1892.00,  7230.53] |    20\n",
       "( 7230.53, 12244.42] |     9\n",
       "(12244.42, 20714.00] |     1\n",
       "(20714.00, 22163.00] |     1\n",
       "(22163.00, 22361.00] |     1"
      ]
     },
     "execution_count": 18,
     "metadata": {},
     "output_type": "execute_result"
    }
   ],
   "source": [
    "ht = mapclassify.HeadTailBreaks(mx.PCGDP1940)\n",
    "ht"
   ]
  },
  {
   "cell_type": "markdown",
   "id": "c54ac95e-4b38-4267-b0c9-b3d4381ca140",
   "metadata": {},
   "source": [
    "## Jenks-Caspall breaks\n",
    "\n",
    "- minimize the sum of absolute deviations around class means\n",
    "- starts with predetermined number of classes and arbitrary intial breaks, eg. quantiles\n",
    "- attempts to improve by moving observations between adjacent classes\n",
    "- moves resulting in the largest reductin of the objective function are made\n",
    "- repeats until no further improvement possible\n",
    "- this is 1-dimenstional K-Means clustering\n",
    "- heuristic"
   ]
  },
  {
   "cell_type": "code",
   "execution_count": 19,
   "id": "680211a8-f339-4d7c-8daf-ede9052fc1c0",
   "metadata": {},
   "outputs": [
    {
     "data": {
      "text/plain": [
       "JenksCaspall\n",
       "\n",
       "      Interval         Count\n",
       "----------------------------\n",
       "[ 1892.00,  2934.00] |     4\n",
       "( 2934.00,  4414.00] |     9\n",
       "( 4414.00,  6399.00] |     5\n",
       "( 6399.00, 12132.00] |    11\n",
       "(12132.00, 22361.00] |     3"
      ]
     },
     "execution_count": 19,
     "metadata": {},
     "output_type": "execute_result"
    }
   ],
   "source": [
    "np.random.seed(12345)\n",
    "jc5 = mapclassify.JenksCaspall(mx.PCGDP1940, k=5)\n",
    "jc5"
   ]
  },
  {
   "cell_type": "markdown",
   "id": "13233f7f-c6af-4797-8dcc-43a5951c7a58",
   "metadata": {},
   "source": [
    "## Fisher-Jenks breaks\n",
    "\n",
    "- non-heuristic, guaranteed result"
   ]
  },
  {
   "cell_type": "code",
   "execution_count": 20,
   "id": "e5f06672-0e48-45f9-8f68-b26f356d0add",
   "metadata": {},
   "outputs": [
    {
     "name": "stderr",
     "output_type": "stream",
     "text": [
      "/nix/store/vr0vzbdxcp8p7930zzjipn2i2gfn14ii-python3-3.12.8-env/lib/python3.12/site-packages/IPython/core/interactiveshell.py:3577: UserWarning: Numba not installed. Using slow pure python version.\n",
      "  exec(code_obj, self.user_global_ns, self.user_ns)\n"
     ]
    },
    {
     "data": {
      "text/plain": [
       "FisherJenks\n",
       "\n",
       "      Interval         Count\n",
       "----------------------------\n",
       "[ 1892.00,  5309.00] |    17\n",
       "( 5309.00,  9073.00] |     8\n",
       "( 9073.00, 12132.00] |     4\n",
       "(12132.00, 17816.00] |     1\n",
       "(17816.00, 22361.00] |     2"
      ]
     },
     "execution_count": 20,
     "metadata": {},
     "output_type": "execute_result"
    }
   ],
   "source": [
    "np.random.seed(12345)\n",
    "fj5 = mapclassify.FisherJenks(mx.PCGDP1940, k=5)\n",
    "\n",
    "fj5"
   ]
  },
  {
   "cell_type": "markdown",
   "id": "a2bd70c6-709a-466b-8629-9c9b2f71c38e",
   "metadata": {},
   "source": [
    "## Max-p \n",
    "\n",
    "- similar to JC"
   ]
  },
  {
   "cell_type": "code",
   "execution_count": 21,
   "id": "f527d4cb-52e9-4b14-8ea0-356d3db360f6",
   "metadata": {},
   "outputs": [
    {
     "data": {
      "text/plain": [
       "MaxP\n",
       "\n",
       "      Interval         Count\n",
       "----------------------------\n",
       "[ 1892.00,  3569.00] |     7\n",
       "( 3569.00,  5309.00] |    10\n",
       "( 5309.00,  7990.00] |     5\n",
       "( 7990.00,  9573.00] |     4\n",
       "( 9573.00, 22361.00] |     6"
      ]
     },
     "execution_count": 21,
     "metadata": {},
     "output_type": "execute_result"
    }
   ],
   "source": [
    "mp5 = mapclassify.MaxP(mx.PCGDP1940, k=5)\n",
    "mp5"
   ]
  },
  {
   "cell_type": "markdown",
   "id": "5cc772d6-f616-4ff0-a0e9-6c90b7dd9a6c",
   "metadata": {},
   "source": [
    "# Comparing Schemes\n",
    "\n",
    "- can use Absolute Deviation around Class Medians (ADCM) to measure fit\n",
    "  "
   ]
  },
  {
   "cell_type": "code",
   "execution_count": 23,
   "id": "d9abe204-bcfd-4776-97a6-1346085ecd8b",
   "metadata": {},
   "outputs": [
    {
     "data": {
      "image/png": "[encoded data removed]",
      "text/plain": [
       "<Figure size 640x480 with 1 Axes>"
      ]
     },
     "metadata": {},
     "output_type": "display_data"
    }
   ],
   "source": [
    "class5 = q5, ei5, ht, mb5, msd, fj5, jc5, mp5\n",
    "fits = np.array([c.adcm for c in class5])\n",
    "adcms = pd.DataFrame(fits)\n",
    "adcms[\"classifier\"] = [c.name for c in class5]\n",
    "adcms.columns = [\"ADCM\", \"Classifier\"]\n",
    "ax = sns.barplot(\n",
    "    y=\"Classifier\", \n",
    "    x=\"ADCM\", \n",
    "    data=adcms, \n",
    "    hue='Classifier', palette=\"Pastel1\"\n",
    ")"
   ]
  },
  {
   "cell_type": "markdown",
   "id": "b81abc59-c27f-44a2-8338-6b9b5d3a21b2",
   "metadata": {},
   "source": [
    ">Compare how each instance was classified in each scheme"
   ]
  },
  {
   "cell_type": "code",
   "execution_count": 24,
   "id": "791065f8-863d-4c7c-b10b-b8c375aad39f",
   "metadata": {},
   "outputs": [],
   "source": [
    "mx[\"Quantiles\"] = q5.yb\n",
    "mx[\"Equal Interval\"] = ei5.yb\n",
    "mx[\"Head-Tail Breaks\"] = ht.yb\n",
    "mx[\"Maximum Breaks\"] = mb5.yb\n",
    "mx[\"Mean-Standard Deviation\"] = msd.yb\n",
    "mx[\"Fisher-Jenks\"] = fj5.yb\n",
    "mx[\"Jenks Caspall\"] = jc5.yb\n",
    "mx[\"MaxP\"] = mp5.yb"
   ]
  },
  {
   "cell_type": "code",
   "execution_count": 25,
   "id": "10e0f062-b0c5-4ea6-8c99-f3acf9d6077d",
   "metadata": {},
   "outputs": [
    {
     "data": {
      "image/png": "[encoded data removed]",
      "text/plain": [
       "<Figure size 900x300 with 1 Axes>"
      ]
     },
     "metadata": {},
     "output_type": "display_data"
    }
   ],
   "source": [
    "f, ax = plt.subplots(1, figsize=(9,3))\n",
    "sns.heatmap(\n",
    "    mx.set_index('NAME')\n",
    "    .sort_values('PCGDP1940')[[\n",
    "            \"Head-Tail Breaks\",\n",
    "            \"Fisher-Jenks\",\n",
    "            \"Maximum Breaks\",\n",
    "            \"Equal Interval\",\n",
    "            \"MaxP\",\n",
    "            \"Quantiles\",\n",
    "            \"Jenks Caspall\",\n",
    "            \"Mean-Standard Deviation\",\n",
    "    ]]\n",
    "    .T, \n",
    "    cmap='YlGn', \n",
    "    cbar=False, \n",
    "    ax=ax\n",
    ")\n",
    "ax.set_xlabel(\"State ID\");"
   ]
  },
  {
   "cell_type": "markdown",
   "id": "df2a8e1d-e1be-4d2a-aa02-ad97ce5ec972",
   "metadata": {},
   "source": [
    ">Compare number of values assigned to each class across the different classifiers (meso-level view)"
   ]
  },
  {
   "cell_type": "code",
   "execution_count": 26,
   "id": "fa86e36a-5239-47e5-a23b-8388fed14343",
   "metadata": {},
   "outputs": [
    {
     "name": "stdout",
     "output_type": "stream",
     "text": [
      "         Quantiles  EqualInterval  HeadTailBreaks  MaximumBreaks  StdMean  \\\n",
      "class-0          7             17              20             17        0   \n",
      "class-1          6              9               9             11        1   \n",
      "class-2          6              3               1              1       28   \n",
      "class-3          6              1               1              1        0   \n",
      "class-4          7              2               1              2        3   \n",
      "\n",
      "         FisherJenks  JenksCaspall  MaxP  \n",
      "class-0           17             4     7  \n",
      "class-1            8             9    10  \n",
      "class-2            4             5     5  \n",
      "class-3            1            11     4  \n",
      "class-4            2             3     6  \n"
     ]
    }
   ],
   "source": [
    "print(pd.DataFrame(\n",
    "    {c.name: c.counts for c in class5}, \n",
    "    index=[\"class-{}\".format(i) for i in range(5)]\n",
    "))"
   ]
  },
  {
   "cell_type": "code",
   "execution_count": null,
   "id": "077a6232-0c76-47be-b9a2-2fd44110e646",
   "metadata": {},
   "outputs": [],
   "source": []
  },
  {
   "cell_type": "code",
   "execution_count": null,
   "id": "585cd17b",
   "metadata": {},
   "outputs": [],
   "source": []
  }
 ],
 "metadata": {
  "kernelspec": {
   "display_name": "Python 3",
   "language": "python",
   "name": "python3"
  },
  "language_info": {
   "codemirror_mode": {
    "name": "ipython",
    "version": 3
   },
   "file_extension": ".py",
   "mimetype": "text/x-python",
   "name": "python",
   "nbconvert_exporter": "python",
   "pygments_lexer": "ipython3",
   "version": "3.12.8"
  }
 },
 "nbformat": 4,
 "nbformat_minor": 5
}
