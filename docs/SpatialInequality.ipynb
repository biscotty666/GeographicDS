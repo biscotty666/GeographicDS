{
 "cells": [
  {
   "cell_type": "markdown",
   "id": "2430f790-324f-4d89-9956-5326db480907",
   "metadata": {},
   "source": [
    "# Spatial inequality dynamics"
   ]
  },
  {
   "cell_type": "markdown",
   "id": "fac6129b-f02a-4066-9c8a-33f1b99dbb34",
   "metadata": {},
   "source": [
    "Analyze regional per capita incomes to examine trends in counties or regions. Combines temporal and spatial analyses."
   ]
  },
  {
   "cell_type": "code",
   "execution_count": 3,
   "id": "eed0e743-11ba-4d8a-bda9-48eea27e9388",
   "metadata": {},
   "outputs": [],
   "source": [
    "import seaborn as sns\n",
    "import pandas as pd \n",
    "import geopandas as gpd\n",
    "import pysal\n",
    "import numpy as np\n",
    "import mapclassify\n",
    "import matplotlib.pyplot as plt\n",
    "from pysal.explore import esda\n",
    "from pysal.lib import weights\n",
    "from pysal.explore import inequality"
   ]
  },
  {
   "cell_type": "code",
   "execution_count": 4,
   "id": "7cd4a97a-adf7-43a2-a768-5d11dcff9e5a",
   "metadata": {},
   "outputs": [
    {
     "data": {
      "text/plain": [
       "Index(['STATEFP', 'COUNTYFP', 'COUNTYNS', 'GEOID', 'NAME', 'NAMELSAD', 'LSAD',\n",
       "       'CLASSFP', 'MTFCC', 'CSAFP', 'CBSAFP', 'METDIVFP', 'FUNCSTAT', 'ALAND',\n",
       "       'AWATER', 'INTPTLAT', 'INTPTLON', 'GeoFIPS', 'GeoName', 'Region',\n",
       "       'TableName', 'LineCode', 'Descriptio', 'Unit', '1969', '1970', '1971',\n",
       "       '1972', '1973', '1974', '1975', '1976', '1977', '1978', '1979', '1980',\n",
       "       '1981', '1982', '1983', '1984', '1985', '1986', '1987', '1988', '1989',\n",
       "       '1990', '1991', '1992', '1993', '1994', '1995', '1996', '1997', '1998',\n",
       "       '1999', '2000', '2001', '2002', '2003', '2004', '2005', '2006', '2007',\n",
       "       '2008', '2009', '2010', '2011', '2012', '2013', '2014', '2015', '2016',\n",
       "       '2017', 'index', 'IndustryCl', 'Descript_1', 'geometry'],\n",
       "      dtype='object')"
      ]
     },
     "execution_count": 4,
     "metadata": {},
     "output_type": "execute_result"
    }
   ],
   "source": [
    "pci_df = gpd.read_file('../data/uscountypcincome.gpkg')\n",
    "pci_df.columns"
   ]
  },
  {
   "cell_type": "code",
   "execution_count": null,
   "id": "cd85cb81-c88a-4d4f-bf43-803fbc7aff47",
   "metadata": {},
   "outputs": [],
   "source": []
  }
 ],
 "metadata": {
  "kernelspec": {
   "display_name": "Python 3 (ipykernel)",
   "language": "python",
   "name": "python3"
  },
  "language_info": {
   "codemirror_mode": {
    "name": "ipython",
    "version": 3
   },
   "file_extension": ".py",
   "mimetype": "text/x-python",
   "name": "python",
   "nbconvert_exporter": "python",
   "pygments_lexer": "ipython3",
   "version": "3.12.7"
  }
 },
 "nbformat": 4,
 "nbformat_minor": 5
}
